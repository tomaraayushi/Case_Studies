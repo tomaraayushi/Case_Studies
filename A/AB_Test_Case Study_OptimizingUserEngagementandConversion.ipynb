{
 "cells": [
  {
   "cell_type": "code",
   "execution_count": 99,
   "metadata": {},
   "outputs": [],
   "source": [
    "import psycopg2\n",
    "import pandas as pd\n",
    "from sqlalchemy import create_engine "
   ]
  },
  {
   "cell_type": "code",
   "execution_count": 100,
   "metadata": {},
   "outputs": [],
   "source": [
    "#PostgresSQL connection\n",
    "db_params ={\n",
    "    \"host\":\"*****\",\n",
    "    \"database\":\"**\",\n",
    "    \"user\":\"*****\",\n",
    "    \"password\":\"****\"\n",
    "}\n",
    "\n",
    "#create a connection\n",
    "conn = psycopg2.connect(**db_params)\n",
    "\n",
    "#create a Sqlalchemy engine\n",
    "engine = create_engine(f\"postgresql://{db_params['user']}:{db_params['password']}@{db_params['host']}/{db_params['database']}\")"
   ]
  },
  {
   "cell_type": "code",
   "execution_count": 101,
   "metadata": {},
   "outputs": [
    {
     "data": {
      "text/html": [
       "<div>\n",
       "<style scoped>\n",
       "    .dataframe tbody tr th:only-of-type {\n",
       "        vertical-align: middle;\n",
       "    }\n",
       "\n",
       "    .dataframe tbody tr th {\n",
       "        vertical-align: top;\n",
       "    }\n",
       "\n",
       "    .dataframe thead th {\n",
       "        text-align: right;\n",
       "    }\n",
       "</style>\n",
       "<table border=\"1\" class=\"dataframe\">\n",
       "  <thead>\n",
       "    <tr style=\"text-align: right;\">\n",
       "      <th></th>\n",
       "      <th>user_id</th>\n",
       "      <th>group</th>\n",
       "      <th>landing_page</th>\n",
       "      <th>time_spent_on_the_page</th>\n",
       "      <th>converted</th>\n",
       "      <th>language_preferred</th>\n",
       "    </tr>\n",
       "  </thead>\n",
       "  <tbody>\n",
       "    <tr>\n",
       "      <th>0</th>\n",
       "      <td>546592</td>\n",
       "      <td>control</td>\n",
       "      <td>old</td>\n",
       "      <td>3.48</td>\n",
       "      <td>no</td>\n",
       "      <td>Spanish</td>\n",
       "    </tr>\n",
       "    <tr>\n",
       "      <th>1</th>\n",
       "      <td>546468</td>\n",
       "      <td>treatment</td>\n",
       "      <td>new</td>\n",
       "      <td>7.13</td>\n",
       "      <td>yes</td>\n",
       "      <td>English</td>\n",
       "    </tr>\n",
       "    <tr>\n",
       "      <th>2</th>\n",
       "      <td>546462</td>\n",
       "      <td>treatment</td>\n",
       "      <td>new</td>\n",
       "      <td>4.40</td>\n",
       "      <td>no</td>\n",
       "      <td>Spanish</td>\n",
       "    </tr>\n",
       "    <tr>\n",
       "      <th>3</th>\n",
       "      <td>546567</td>\n",
       "      <td>control</td>\n",
       "      <td>old</td>\n",
       "      <td>3.02</td>\n",
       "      <td>no</td>\n",
       "      <td>French</td>\n",
       "    </tr>\n",
       "    <tr>\n",
       "      <th>4</th>\n",
       "      <td>546459</td>\n",
       "      <td>treatment</td>\n",
       "      <td>new</td>\n",
       "      <td>4.75</td>\n",
       "      <td>yes</td>\n",
       "      <td>Spanish</td>\n",
       "    </tr>\n",
       "  </tbody>\n",
       "</table>\n",
       "</div>"
      ],
      "text/plain": [
       "   user_id      group landing_page  time_spent_on_the_page converted  \\\n",
       "0   546592    control          old                    3.48        no   \n",
       "1   546468  treatment          new                    7.13       yes   \n",
       "2   546462  treatment          new                    4.40        no   \n",
       "3   546567    control          old                    3.02        no   \n",
       "4   546459  treatment          new                    4.75       yes   \n",
       "\n",
       "  language_preferred  \n",
       "0            Spanish  \n",
       "1            English  \n",
       "2            Spanish  \n",
       "3             French  \n",
       "4            Spanish  "
      ]
     },
     "execution_count": 101,
     "metadata": {},
     "output_type": "execute_result"
    }
   ],
   "source": [
    "# Import data\n",
    "df = pd.read_csv(r\"C:\\Users\\Aayushi\\Downloads\\news_feature.csv\")\n",
    "df.head()"
   ]
  },
  {
   "cell_type": "code",
   "execution_count": 102,
   "metadata": {},
   "outputs": [
    {
     "data": {
      "text/plain": [
       "100"
      ]
     },
     "execution_count": 102,
     "metadata": {},
     "output_type": "execute_result"
    }
   ],
   "source": [
    "# Write the df into Postgre table\n",
    "df.to_sql('news_portal', engine, if_exists = 'replace', index= False)"
   ]
  },
  {
   "cell_type": "code",
   "execution_count": 103,
   "metadata": {},
   "outputs": [
    {
     "name": "stdout",
     "output_type": "stream",
     "text": [
      "<class 'pandas.core.frame.DataFrame'>\n",
      "RangeIndex: 100 entries, 0 to 99\n",
      "Data columns (total 6 columns):\n",
      " #   Column                  Non-Null Count  Dtype  \n",
      "---  ------                  --------------  -----  \n",
      " 0   user_id                 100 non-null    int64  \n",
      " 1   group                   100 non-null    object \n",
      " 2   landing_page            100 non-null    object \n",
      " 3   time_spent_on_the_page  100 non-null    float64\n",
      " 4   converted               100 non-null    object \n",
      " 5   language_preferred      100 non-null    object \n",
      "dtypes: float64(1), int64(1), object(4)\n",
      "memory usage: 4.8+ KB\n"
     ]
    },
    {
     "name": "stderr",
     "output_type": "stream",
     "text": [
      "C:\\Users\\Aayushi\\AppData\\Local\\Temp\\ipykernel_18016\\1393985198.py:5: UserWarning: pandas only supports SQLAlchemy connectable (engine/connection) or database string URI or sqlite3 DBAPI2 connection. Other DBAPI2 objects are not tested. Please consider using SQLAlchemy.\n",
      "  df_q1 = pd.read_sql_query(q1, conn)\n"
     ]
    }
   ],
   "source": [
    "# Explore the dataset\n",
    "q1 = \"\"\" \n",
    "select * from news_portal\n",
    "\"\"\"\n",
    "df_q1 = pd.read_sql_query(q1, conn)\n",
    "df_q1.info()"
   ]
  },
  {
   "cell_type": "code",
   "execution_count": 104,
   "metadata": {},
   "outputs": [
    {
     "data": {
      "text/html": [
       "<div>\n",
       "<style scoped>\n",
       "    .dataframe tbody tr th:only-of-type {\n",
       "        vertical-align: middle;\n",
       "    }\n",
       "\n",
       "    .dataframe tbody tr th {\n",
       "        vertical-align: top;\n",
       "    }\n",
       "\n",
       "    .dataframe thead th {\n",
       "        text-align: right;\n",
       "    }\n",
       "</style>\n",
       "<table border=\"1\" class=\"dataframe\">\n",
       "  <thead>\n",
       "    <tr style=\"text-align: right;\">\n",
       "      <th></th>\n",
       "      <th>user_id</th>\n",
       "      <th>group</th>\n",
       "      <th>landing_page</th>\n",
       "      <th>time_spent_on_the_page</th>\n",
       "      <th>converted</th>\n",
       "      <th>language_preferred</th>\n",
       "    </tr>\n",
       "  </thead>\n",
       "  <tbody>\n",
       "    <tr>\n",
       "      <th>0</th>\n",
       "      <td>546592</td>\n",
       "      <td>control</td>\n",
       "      <td>old</td>\n",
       "      <td>3.48</td>\n",
       "      <td>no</td>\n",
       "      <td>Spanish</td>\n",
       "    </tr>\n",
       "    <tr>\n",
       "      <th>1</th>\n",
       "      <td>546468</td>\n",
       "      <td>treatment</td>\n",
       "      <td>new</td>\n",
       "      <td>7.13</td>\n",
       "      <td>yes</td>\n",
       "      <td>English</td>\n",
       "    </tr>\n",
       "    <tr>\n",
       "      <th>2</th>\n",
       "      <td>546462</td>\n",
       "      <td>treatment</td>\n",
       "      <td>new</td>\n",
       "      <td>4.40</td>\n",
       "      <td>no</td>\n",
       "      <td>Spanish</td>\n",
       "    </tr>\n",
       "    <tr>\n",
       "      <th>3</th>\n",
       "      <td>546567</td>\n",
       "      <td>control</td>\n",
       "      <td>old</td>\n",
       "      <td>3.02</td>\n",
       "      <td>no</td>\n",
       "      <td>French</td>\n",
       "    </tr>\n",
       "    <tr>\n",
       "      <th>4</th>\n",
       "      <td>546459</td>\n",
       "      <td>treatment</td>\n",
       "      <td>new</td>\n",
       "      <td>4.75</td>\n",
       "      <td>yes</td>\n",
       "      <td>Spanish</td>\n",
       "    </tr>\n",
       "    <tr>\n",
       "      <th>...</th>\n",
       "      <td>...</td>\n",
       "      <td>...</td>\n",
       "      <td>...</td>\n",
       "      <td>...</td>\n",
       "      <td>...</td>\n",
       "      <td>...</td>\n",
       "    </tr>\n",
       "    <tr>\n",
       "      <th>95</th>\n",
       "      <td>546446</td>\n",
       "      <td>treatment</td>\n",
       "      <td>new</td>\n",
       "      <td>5.15</td>\n",
       "      <td>no</td>\n",
       "      <td>Spanish</td>\n",
       "    </tr>\n",
       "    <tr>\n",
       "      <th>96</th>\n",
       "      <td>546544</td>\n",
       "      <td>control</td>\n",
       "      <td>old</td>\n",
       "      <td>6.52</td>\n",
       "      <td>yes</td>\n",
       "      <td>English</td>\n",
       "    </tr>\n",
       "    <tr>\n",
       "      <th>97</th>\n",
       "      <td>546472</td>\n",
       "      <td>treatment</td>\n",
       "      <td>new</td>\n",
       "      <td>7.07</td>\n",
       "      <td>yes</td>\n",
       "      <td>Spanish</td>\n",
       "    </tr>\n",
       "    <tr>\n",
       "      <th>98</th>\n",
       "      <td>546481</td>\n",
       "      <td>treatment</td>\n",
       "      <td>new</td>\n",
       "      <td>6.20</td>\n",
       "      <td>yes</td>\n",
       "      <td>Spanish</td>\n",
       "    </tr>\n",
       "    <tr>\n",
       "      <th>99</th>\n",
       "      <td>546483</td>\n",
       "      <td>treatment</td>\n",
       "      <td>new</td>\n",
       "      <td>5.86</td>\n",
       "      <td>yes</td>\n",
       "      <td>English</td>\n",
       "    </tr>\n",
       "  </tbody>\n",
       "</table>\n",
       "<p>100 rows × 6 columns</p>\n",
       "</div>"
      ],
      "text/plain": [
       "    user_id      group landing_page  time_spent_on_the_page converted  \\\n",
       "0    546592    control          old                    3.48        no   \n",
       "1    546468  treatment          new                    7.13       yes   \n",
       "2    546462  treatment          new                    4.40        no   \n",
       "3    546567    control          old                    3.02        no   \n",
       "4    546459  treatment          new                    4.75       yes   \n",
       "..      ...        ...          ...                     ...       ...   \n",
       "95   546446  treatment          new                    5.15        no   \n",
       "96   546544    control          old                    6.52       yes   \n",
       "97   546472  treatment          new                    7.07       yes   \n",
       "98   546481  treatment          new                    6.20       yes   \n",
       "99   546483  treatment          new                    5.86       yes   \n",
       "\n",
       "   language_preferred  \n",
       "0             Spanish  \n",
       "1             English  \n",
       "2             Spanish  \n",
       "3              French  \n",
       "4             Spanish  \n",
       "..                ...  \n",
       "95            Spanish  \n",
       "96            English  \n",
       "97            Spanish  \n",
       "98            Spanish  \n",
       "99            English  \n",
       "\n",
       "[100 rows x 6 columns]"
      ]
     },
     "execution_count": 104,
     "metadata": {},
     "output_type": "execute_result"
    }
   ],
   "source": [
    "df_q1"
   ]
  },
  {
   "cell_type": "code",
   "execution_count": 105,
   "metadata": {},
   "outputs": [
    {
     "data": {
      "text/plain": [
       "user_id                   0\n",
       "group                     0\n",
       "landing_page              0\n",
       "time_spent_on_the_page    0\n",
       "converted                 0\n",
       "language_preferred        0\n",
       "dtype: int64"
      ]
     },
     "execution_count": 105,
     "metadata": {},
     "output_type": "execute_result"
    }
   ],
   "source": [
    "# Check for missing values\n",
    "df.isnull().sum()"
   ]
  },
  {
   "cell_type": "code",
   "execution_count": 106,
   "metadata": {},
   "outputs": [
    {
     "name": "stderr",
     "output_type": "stream",
     "text": [
      "C:\\Users\\Aayushi\\AppData\\Local\\Temp\\ipykernel_18016\\2094741183.py:9: UserWarning: pandas only supports SQLAlchemy connectable (engine/connection) or database string URI or sqlite3 DBAPI2 connection. Other DBAPI2 objects are not tested. Please consider using SQLAlchemy.\n",
      "  df_q2 = pd.read_sql_query(q2, conn)\n"
     ]
    },
    {
     "data": {
      "text/html": [
       "<div>\n",
       "<style scoped>\n",
       "    .dataframe tbody tr th:only-of-type {\n",
       "        vertical-align: middle;\n",
       "    }\n",
       "\n",
       "    .dataframe tbody tr th {\n",
       "        vertical-align: top;\n",
       "    }\n",
       "\n",
       "    .dataframe thead th {\n",
       "        text-align: right;\n",
       "    }\n",
       "</style>\n",
       "<table border=\"1\" class=\"dataframe\">\n",
       "  <thead>\n",
       "    <tr style=\"text-align: right;\">\n",
       "      <th></th>\n",
       "      <th>count</th>\n",
       "      <th>group</th>\n",
       "    </tr>\n",
       "  </thead>\n",
       "  <tbody>\n",
       "    <tr>\n",
       "      <th>0</th>\n",
       "      <td>50</td>\n",
       "      <td>control</td>\n",
       "    </tr>\n",
       "    <tr>\n",
       "      <th>1</th>\n",
       "      <td>50</td>\n",
       "      <td>treatment</td>\n",
       "    </tr>\n",
       "  </tbody>\n",
       "</table>\n",
       "</div>"
      ],
      "text/plain": [
       "   count      group\n",
       "0     50    control\n",
       "1     50  treatment"
      ]
     },
     "execution_count": 106,
     "metadata": {},
     "output_type": "execute_result"
    }
   ],
   "source": [
    "# Ditribution of users in each group\n",
    "q2 = \"\"\" \n",
    "    select \n",
    "        count(distinct user_id) ,\n",
    "        \"group\"\n",
    "    from news_portal\n",
    "    group by \"group\" \n",
    "    \"\"\"\n",
    "df_q2 = pd.read_sql_query(q2, conn) \n",
    "df_q2"
   ]
  },
  {
   "cell_type": "code",
   "execution_count": 107,
   "metadata": {},
   "outputs": [
    {
     "name": "stderr",
     "output_type": "stream",
     "text": [
      "C:\\Users\\Aayushi\\AppData\\Local\\Temp\\ipykernel_18016\\2895663759.py:7: UserWarning: pandas only supports SQLAlchemy connectable (engine/connection) or database string URI or sqlite3 DBAPI2 connection. Other DBAPI2 objects are not tested. Please consider using SQLAlchemy.\n",
      "  df_q3 = pd.read_sql_query(q3, conn)\n"
     ]
    },
    {
     "data": {
      "text/html": [
       "<div>\n",
       "<style scoped>\n",
       "    .dataframe tbody tr th:only-of-type {\n",
       "        vertical-align: middle;\n",
       "    }\n",
       "\n",
       "    .dataframe tbody tr th {\n",
       "        vertical-align: top;\n",
       "    }\n",
       "\n",
       "    .dataframe thead th {\n",
       "        text-align: right;\n",
       "    }\n",
       "</style>\n",
       "<table border=\"1\" class=\"dataframe\">\n",
       "  <thead>\n",
       "    <tr style=\"text-align: right;\">\n",
       "      <th></th>\n",
       "      <th>avg</th>\n",
       "      <th>landing_page</th>\n",
       "    </tr>\n",
       "  </thead>\n",
       "  <tbody>\n",
       "    <tr>\n",
       "      <th>0</th>\n",
       "      <td>4.5324</td>\n",
       "      <td>old</td>\n",
       "    </tr>\n",
       "    <tr>\n",
       "      <th>1</th>\n",
       "      <td>6.2232</td>\n",
       "      <td>new</td>\n",
       "    </tr>\n",
       "  </tbody>\n",
       "</table>\n",
       "</div>"
      ],
      "text/plain": [
       "      avg landing_page\n",
       "0  4.5324          old\n",
       "1  6.2232          new"
      ]
     },
     "execution_count": 107,
     "metadata": {},
     "output_type": "execute_result"
    }
   ],
   "source": [
    "# Average time spent on each landing page \n",
    "q3 = \"\"\" \n",
    "    select avg(time_spent_on_the_page), landing_page\n",
    "    from news_portal\n",
    "    group by landing_page\n",
    "\"\"\"\n",
    "df_q3 = pd.read_sql_query(q3, conn)\n",
    "df_q3"
   ]
  },
  {
   "cell_type": "code",
   "execution_count": 108,
   "metadata": {},
   "outputs": [
    {
     "name": "stderr",
     "output_type": "stream",
     "text": [
      "C:\\Users\\Aayushi\\AppData\\Local\\Temp\\ipykernel_18016\\148455552.py:12: UserWarning: pandas only supports SQLAlchemy connectable (engine/connection) or database string URI or sqlite3 DBAPI2 connection. Other DBAPI2 objects are not tested. Please consider using SQLAlchemy.\n",
      "  df_q4 = pd.read_sql_query(q4, conn)\n"
     ]
    },
    {
     "data": {
      "text/html": [
       "<div>\n",
       "<style scoped>\n",
       "    .dataframe tbody tr th:only-of-type {\n",
       "        vertical-align: middle;\n",
       "    }\n",
       "\n",
       "    .dataframe tbody tr th {\n",
       "        vertical-align: top;\n",
       "    }\n",
       "\n",
       "    .dataframe thead th {\n",
       "        text-align: right;\n",
       "    }\n",
       "</style>\n",
       "<table border=\"1\" class=\"dataframe\">\n",
       "  <thead>\n",
       "    <tr style=\"text-align: right;\">\n",
       "      <th></th>\n",
       "      <th>conversion_count</th>\n",
       "      <th>landing_page</th>\n",
       "    </tr>\n",
       "  </thead>\n",
       "  <tbody>\n",
       "    <tr>\n",
       "      <th>0</th>\n",
       "      <td>21</td>\n",
       "      <td>old</td>\n",
       "    </tr>\n",
       "    <tr>\n",
       "      <th>1</th>\n",
       "      <td>33</td>\n",
       "      <td>new</td>\n",
       "    </tr>\n",
       "  </tbody>\n",
       "</table>\n",
       "</div>"
      ],
      "text/plain": [
       "   conversion_count landing_page\n",
       "0                21          old\n",
       "1                33          new"
      ]
     },
     "execution_count": 108,
     "metadata": {},
     "output_type": "execute_result"
    }
   ],
   "source": [
    "# Conversion count for each landing page\n",
    "q4 = \"\"\" \n",
    "    select \n",
    "        sum(case \n",
    "                when converted = 'yes' then 1\n",
    "                else 0 \n",
    "                end) as conversion_count,\n",
    "        landing_page\n",
    "    from news_portal\n",
    "    group by landing_page\n",
    "\"\"\"\n",
    "df_q4 = pd.read_sql_query(q4, conn)\n",
    "df_q4"
   ]
  },
  {
   "cell_type": "code",
   "execution_count": 109,
   "metadata": {},
   "outputs": [
    {
     "name": "stderr",
     "output_type": "stream",
     "text": [
      "C:\\Users\\Aayushi\\AppData\\Local\\Temp\\ipykernel_18016\\837663608.py:14: UserWarning: pandas only supports SQLAlchemy connectable (engine/connection) or database string URI or sqlite3 DBAPI2 connection. Other DBAPI2 objects are not tested. Please consider using SQLAlchemy.\n",
      "  df_q5 = pd.read_sql_query(q5, conn)\n"
     ]
    },
    {
     "data": {
      "text/html": [
       "<div>\n",
       "<style scoped>\n",
       "    .dataframe tbody tr th:only-of-type {\n",
       "        vertical-align: middle;\n",
       "    }\n",
       "\n",
       "    .dataframe tbody tr th {\n",
       "        vertical-align: top;\n",
       "    }\n",
       "\n",
       "    .dataframe thead th {\n",
       "        text-align: right;\n",
       "    }\n",
       "</style>\n",
       "<table border=\"1\" class=\"dataframe\">\n",
       "  <thead>\n",
       "    <tr style=\"text-align: right;\">\n",
       "      <th></th>\n",
       "      <th>landing_page</th>\n",
       "      <th>total_users</th>\n",
       "      <th>conversions</th>\n",
       "      <th>conversion_rate</th>\n",
       "    </tr>\n",
       "  </thead>\n",
       "  <tbody>\n",
       "    <tr>\n",
       "      <th>0</th>\n",
       "      <td>new</td>\n",
       "      <td>50</td>\n",
       "      <td>33</td>\n",
       "      <td>0.66</td>\n",
       "    </tr>\n",
       "    <tr>\n",
       "      <th>1</th>\n",
       "      <td>old</td>\n",
       "      <td>50</td>\n",
       "      <td>21</td>\n",
       "      <td>0.42</td>\n",
       "    </tr>\n",
       "  </tbody>\n",
       "</table>\n",
       "</div>"
      ],
      "text/plain": [
       "  landing_page  total_users  conversions  conversion_rate\n",
       "0          new           50           33             0.66\n",
       "1          old           50           21             0.42"
      ]
     },
     "execution_count": 109,
     "metadata": {},
     "output_type": "execute_result"
    }
   ],
   "source": [
    "# Conversion rate for eachh landing page\n",
    "q5 = \"\"\" \n",
    "    select \n",
    "        landing_page,\n",
    "        count(distinct user_id) as total_users,\n",
    "        count(case\n",
    "                when converted = 'yes' then 1\n",
    "                else null\n",
    "                end)as conversions,\n",
    "        (count(case when converted = 'yes' then 1 else null end)::decimal/ count(distinct user_id)) as conversion_rate\n",
    "    from news_portal\n",
    "    group by landing_page\n",
    "\"\"\"\n",
    "df_q5 = pd.read_sql_query(q5, conn)\n",
    "df_q5"
   ]
  },
  {
   "cell_type": "code",
   "execution_count": 110,
   "metadata": {},
   "outputs": [
    {
     "name": "stderr",
     "output_type": "stream",
     "text": [
      "C:\\Users\\Aayushi\\AppData\\Local\\Temp\\ipykernel_18016\\1799021087.py:12: UserWarning: pandas only supports SQLAlchemy connectable (engine/connection) or database string URI or sqlite3 DBAPI2 connection. Other DBAPI2 objects are not tested. Please consider using SQLAlchemy.\n",
      "  df_q6 = pd.read_sql_query(q6, conn)\n"
     ]
    },
    {
     "data": {
      "text/html": [
       "<div>\n",
       "<style scoped>\n",
       "    .dataframe tbody tr th:only-of-type {\n",
       "        vertical-align: middle;\n",
       "    }\n",
       "\n",
       "    .dataframe tbody tr th {\n",
       "        vertical-align: top;\n",
       "    }\n",
       "\n",
       "    .dataframe thead th {\n",
       "        text-align: right;\n",
       "    }\n",
       "</style>\n",
       "<table border=\"1\" class=\"dataframe\">\n",
       "  <thead>\n",
       "    <tr style=\"text-align: right;\">\n",
       "      <th></th>\n",
       "      <th>language_preferred</th>\n",
       "      <th>landing_page</th>\n",
       "      <th>conversion_lang</th>\n",
       "    </tr>\n",
       "  </thead>\n",
       "  <tbody>\n",
       "    <tr>\n",
       "      <th>0</th>\n",
       "      <td>English</td>\n",
       "      <td>new</td>\n",
       "      <td>0.625000</td>\n",
       "    </tr>\n",
       "    <tr>\n",
       "      <th>1</th>\n",
       "      <td>English</td>\n",
       "      <td>old</td>\n",
       "      <td>0.687500</td>\n",
       "    </tr>\n",
       "    <tr>\n",
       "      <th>2</th>\n",
       "      <td>French</td>\n",
       "      <td>new</td>\n",
       "      <td>0.705882</td>\n",
       "    </tr>\n",
       "    <tr>\n",
       "      <th>3</th>\n",
       "      <td>French</td>\n",
       "      <td>old</td>\n",
       "      <td>0.176471</td>\n",
       "    </tr>\n",
       "    <tr>\n",
       "      <th>4</th>\n",
       "      <td>Spanish</td>\n",
       "      <td>new</td>\n",
       "      <td>0.647059</td>\n",
       "    </tr>\n",
       "    <tr>\n",
       "      <th>5</th>\n",
       "      <td>Spanish</td>\n",
       "      <td>old</td>\n",
       "      <td>0.411765</td>\n",
       "    </tr>\n",
       "  </tbody>\n",
       "</table>\n",
       "</div>"
      ],
      "text/plain": [
       "  language_preferred landing_page  conversion_lang\n",
       "0            English          new         0.625000\n",
       "1            English          old         0.687500\n",
       "2             French          new         0.705882\n",
       "3             French          old         0.176471\n",
       "4            Spanish          new         0.647059\n",
       "5            Spanish          old         0.411765"
      ]
     },
     "execution_count": 110,
     "metadata": {},
     "output_type": "execute_result"
    }
   ],
   "source": [
    "# Conversion rate for each page by preferred language\n",
    "q6 = \"\"\" \n",
    "    select\n",
    "        language_preferred,\n",
    "        landing_page,\n",
    "        avg(case when converted = 'yes' then 1 \n",
    "                else 0 end) as conversion_lang\n",
    "    from news_portal\n",
    "    group by landing_page, language_preferred\n",
    "    order by language_preferred\n",
    "\"\"\"\n",
    "df_q6 = pd.read_sql_query(q6, conn)\n",
    "df_q6"
   ]
  },
  {
   "cell_type": "code",
   "execution_count": 111,
   "metadata": {},
   "outputs": [
    {
     "name": "stderr",
     "output_type": "stream",
     "text": [
      "C:\\Users\\Aayushi\\AppData\\Local\\Temp\\ipykernel_18016\\3133934697.py:11: UserWarning: pandas only supports SQLAlchemy connectable (engine/connection) or database string URI or sqlite3 DBAPI2 connection. Other DBAPI2 objects are not tested. Please consider using SQLAlchemy.\n",
      "  df_q7 = pd.read_sql_query(q7, conn)\n"
     ]
    },
    {
     "data": {
      "text/html": [
       "<div>\n",
       "<style scoped>\n",
       "    .dataframe tbody tr th:only-of-type {\n",
       "        vertical-align: middle;\n",
       "    }\n",
       "\n",
       "    .dataframe tbody tr th {\n",
       "        vertical-align: top;\n",
       "    }\n",
       "\n",
       "    .dataframe thead th {\n",
       "        text-align: right;\n",
       "    }\n",
       "</style>\n",
       "<table border=\"1\" class=\"dataframe\">\n",
       "  <thead>\n",
       "    <tr style=\"text-align: right;\">\n",
       "      <th></th>\n",
       "      <th>language_preferred</th>\n",
       "      <th>mean_time_spent</th>\n",
       "    </tr>\n",
       "  </thead>\n",
       "  <tbody>\n",
       "    <tr>\n",
       "      <th>0</th>\n",
       "      <td>English</td>\n",
       "      <td>6.663750</td>\n",
       "    </tr>\n",
       "    <tr>\n",
       "      <th>1</th>\n",
       "      <td>French</td>\n",
       "      <td>6.196471</td>\n",
       "    </tr>\n",
       "    <tr>\n",
       "      <th>2</th>\n",
       "      <td>Spanish</td>\n",
       "      <td>5.835294</td>\n",
       "    </tr>\n",
       "  </tbody>\n",
       "</table>\n",
       "</div>"
      ],
      "text/plain": [
       "  language_preferred  mean_time_spent\n",
       "0            English         6.663750\n",
       "1             French         6.196471\n",
       "2            Spanish         5.835294"
      ]
     },
     "execution_count": 111,
     "metadata": {},
     "output_type": "execute_result"
    }
   ],
   "source": [
    "# Mean time spent on new landing page by peferred language\n",
    "q7 = \"\"\" \n",
    "    select\n",
    "        language_preferred,\n",
    "        avg(time_spent_on_the_page) as mean_time_spent\n",
    "    from news_portal\n",
    "    where landing_page = 'new'\n",
    "    group by language_preferred\n",
    "    order by language_preferred \n",
    "\"\"\"\n",
    "df_q7 = pd.read_sql_query(q7, conn)\n",
    "df_q7"
   ]
  },
  {
   "cell_type": "code",
   "execution_count": 112,
   "metadata": {},
   "outputs": [
    {
     "data": {
      "image/png": "[encoded data removed]",
      "text/plain": [
       "<Figure size 1000x500 with 2 Axes>"
      ]
     },
     "metadata": {},
     "output_type": "display_data"
    }
   ],
   "source": [
    "# Visualize the distribution\n",
    "# Time spent on old vs new\n",
    "# Import the libraries\n",
    "import matplotlib.pyplot as plt\n",
    "import seaborn as sns\n",
    "\n",
    "# Create a figure \n",
    "fig, (ax1, ax2) = plt.subplots(1, 2, figsize=(10,5))\n",
    "\n",
    "# Plot for Old Landing Page\n",
    "sns.histplot(data = df[df['landing_page'] == 'old'],\n",
    "             x = 'time_spent_on_the_page',\n",
    "             kde = True,\n",
    "             ax = ax1)\n",
    "ax1.set_title('Time Spent on Old landing Page')\n",
    "\n",
    "# Plot fro new landing page\n",
    "sns.histplot(data = df[df['landing_page'] == 'new'],\n",
    "             x = 'time_spent_on_the_page',\n",
    "             kde = True,\n",
    "             ax = ax2)\n",
    "ax2.set_title('Time Spent on New landing Page')\n",
    "\n",
    "plt.show()"
   ]
  },
  {
   "cell_type": "code",
   "execution_count": 113,
   "metadata": {},
   "outputs": [
    {
     "data": {
      "image/png": "[encoded data removed]",
      "text/plain": [
       "<Figure size 640x480 with 1 Axes>"
      ]
     },
     "metadata": {},
     "output_type": "display_data"
    }
   ],
   "source": [
    "sns.boxplot(x ='landing_page', y= 'time_spent_on_the_page', data= df)\n",
    "plt.show()"
   ]
  },
  {
   "cell_type": "code",
   "execution_count": 114,
   "metadata": {},
   "outputs": [
    {
     "data": {
      "image/png": "[encoded data removed]",
      "text/plain": [
       "<Figure size 1200x600 with 1 Axes>"
      ]
     },
     "metadata": {},
     "output_type": "display_data"
    }
   ],
   "source": [
    "# Conversion rate \n",
    "# Convert convertedd column to numerical values\n",
    "df['converted'] = df['converted'].apply(lambda x: 1 if x == 'yes' else 0)\n",
    "conversion_rate = df.groupby('landing_page')['converted'].mean().reset_index()\n",
    "\n",
    "# Bar plot for visualize conversion rate on both landing pages\n",
    "plt.figure(figsize=(12,6))\n",
    "sns.barplot(data=conversion_rate, \n",
    "         x = 'landing_page',\n",
    "         y = 'converted')\n",
    "plt.title('Conversion Rate by Landing Page')\n",
    "plt.show()"
   ]
  },
  {
   "cell_type": "code",
   "execution_count": 115,
   "metadata": {},
   "outputs": [
    {
     "name": "stdout",
     "output_type": "stream",
     "text": [
      "Median of time spent for old page: 4.38\n",
      "Median of time spent for new page: 6.105\n",
      "\n",
      "Test Result-\n",
      "Mann-Whitney U test statistics: 747.0\n",
      "p-value: 0.0005317974140933516\n"
     ]
    }
   ],
   "source": [
    "# Hypothesis Testing\n",
    "\n",
    "# Perform Mann-Whitney U Test for -Do the users spend more time on the new landing page than the old landing page?\n",
    "# Distribution is not normal in both landing page so non-parametric test will be a good approach \n",
    "# Import the library\n",
    "from scipy import stats\n",
    "\n",
    "# Formulate Hypotheses\n",
    "# Null Hypothesis H0 : There is no significant difference in time spent b/w new page and old page\n",
    "# Alternate Hypothesis H1 : There is a significant difference in tiem spent b/w new page and old page\n",
    "old_page_time = df[df['landing_page'] == 'old']['time_spent_on_the_page']\n",
    "new_page_time = df[df['landing_page'] == 'new']['time_spent_on_the_page']\n",
    "\n",
    "# Calculate medians for measuring central tendency\n",
    "print(f\"Median of time spent for old page: {old_page_time.median()}\")\n",
    "print(f\"Median of time spent for new page: {new_page_time.median()}\")\n",
    "# Mann-Whitney U test\n",
    "alpha = 0.05\n",
    "statistics, p_value = stats.mannwhitneyu(old_page_time, new_page_time, alternative = 'two-sided')\n",
    "\n",
    "print(\"\\nTest Result-\")\n",
    "print(f\"Mann-Whitney U test statistics: {statistics}\")\n",
    "print(f\"p-value: {p_value}\")"
   ]
  },
  {
   "cell_type": "code",
   "execution_count": 116,
   "metadata": {},
   "outputs": [
    {
     "name": "stdout",
     "output_type": "stream",
     "text": [
      "converted      0   1\n",
      "landing_page        \n",
      "new           17  33\n",
      "old           29  21\n",
      "\n",
      "Test Result-\n",
      "Chi-Square statistics: 4.871175523349437\n",
      "p-value: 0.01365444587746116\n",
      "Degree of Freedom: 1\n"
     ]
    }
   ],
   "source": [
    "# Perform Chi-Square test for- Is the conversion rate (the proportion of users who visit the landing page and get converted)\n",
    "# for the new page greater than the conversion rate for the old page?\n",
    "\n",
    "# Define Hypotheses\n",
    "# Null Hypothesis H0: The conversion rate of old page is equal to the conversion rate of new page\n",
    "# Alternate Hypothesis H1: The conversion rate of new page is greater than converssion rate of old page\n",
    "\n",
    "# Create contigency table\n",
    "contingency_table = pd.crosstab(df['landing_page'], df['converted'])\n",
    "print(contingency_table)\n",
    "\n",
    "# Perform Chi2 test\n",
    "import numpy as np\n",
    "from scipy.stats import chi2_contingency\n",
    "alpha = 0.05\n",
    "chi2, p_value, dof, expected = chi2_contingency(contingency_table)\n",
    "\n",
    "one_tailed_p_val = p_value /2 \n",
    "\n",
    "print(\"\\nTest Result-\")\n",
    "print(f\"Chi-Square statistics: {chi2}\")\n",
    "print(f\"p-value: {one_tailed_p_val}\")\n",
    "print(f\"Degree of Freedom: {dof}\")\n"
   ]
  },
  {
   "cell_type": "code",
   "execution_count": 117,
   "metadata": {},
   "outputs": [
    {
     "name": "stdout",
     "output_type": "stream",
     "text": [
      "converted            0   1\n",
      "language_preferred        \n",
      "English             11  21\n",
      "French              19  15\n",
      "Spanish             16  18\n",
      "\n",
      "Test Result-\n",
      "Chi-Square Statistics: 3.0930306905370832\n",
      "p-value: 0.2129888748754345\n",
      "Degree of Freedom: 2\n"
     ]
    }
   ],
   "source": [
    "# Perform Chi-Square test for - Does the converted status depend on the preferred language?\n",
    "# Define Hypotheses\n",
    "# Null Hypothesis H0: There is no significant realationship between a user preferred language and conversion rate.\n",
    "# Alternate Hypothesis H1: There is a significant relationship betweeen  user preferred language and conversion rate.\n",
    "\n",
    "# Create contigency table\n",
    "contingency_t2 = pd.crosstab(df['language_preferred'], df['converted'])\n",
    "print(contingency_t2)\n",
    "\n",
    "# Perform Chi2 test\n",
    "alpha = 0.05\n",
    "chi2, p_value, dof, expected = chi2_contingency(contingency_t2)\n",
    "\n",
    "print(\"\\nTest Result-\")\n",
    "print(f\"Chi-Square Statistics: {chi2}\")\n",
    "print(f\"p-value: {p_value}\")\n",
    "print(f\"Degree of Freedom: {dof}\")\n"
   ]
  },
  {
   "cell_type": "code",
   "execution_count": 118,
   "metadata": {},
   "outputs": [
    {
     "name": "stdout",
     "output_type": "stream",
     "text": [
      "\n",
      "Test Result-\n",
      "ANOVA test Statistics: 0.8543992770006822\n",
      "p-value: 0.2129888748754345\n"
     ]
    }
   ],
   "source": [
    "# Perform ANOVA for- Is the mean time spent on the new page the same for the different language users?\n",
    "# Define Hypothesis\n",
    "# Null Hypothesis H0: The mean time spent is same on the new page for all language groups\n",
    "# Alternate Hypothesis H1: The mean time spent on the new page is different for atleast one language group\n",
    "\n",
    "# Filter for new page\n",
    "newpage_u = df[df['landing_page'] == 'new']\n",
    "\n",
    "# perform ANOVA test\n",
    "alpha = 0.05\n",
    "f_stat , p_vlaue = stats.f_oneway(*[lang['time_spent_on_the_page'].values for name, lang in newpage_u.groupby('language_preferred')])\n",
    "\n",
    "print(\"\\nTest Result-\")\n",
    "print(f\"ANOVA test Statistics: {f_stat}\")\n",
    "print(f\"p-value: {p_value}\")\n"
   ]
  },
  {
   "cell_type": "markdown",
   "metadata": {},
   "source": [
    "CONCLUSION\n",
    "\n",
    "1. Mann-Whitney U test for time spent on new vs. old page\n",
    "\n",
    "Test statistic: 747.0\n",
    "p-value: 0.0005317974140933516\n",
    "Result: With a p-value of approximately 0.00053, which is much less than significance level of 0.05, we reject the null hypothesis. \n",
    "There is strong evidence to suggest a significant difference in time spent between the new page and the old page. \n",
    "Given that the median time for the new page (6.105) is higher than the old page (4.38), we can conclude that users tend to spend more time on the new page compared to the old page.\n",
    "\n",
    "2. Chi-Square test for conversion rates\n",
    "\n",
    "Chi-Square statistic: 4.871175523349437\n",
    "p-value: 0.01365444587746116\n",
    "Degrees of freedom: 1\n",
    "Conclusion: The p-value of approximately 0.0137 is less than the significance level of 0.05. Therefore, we reject the null hypothesis. \n",
    "There is sufficient evidence to conclude that the conversion rate of the new page is significantly greater than the conversion rate of the old page. \n",
    "This suggests that the new page design is more effective in converting users.\n",
    "\n",
    "3. Chi-Square test for relationship between user preferred language and conversion rate\n",
    "\n",
    "Chi-Square statistic: 3.0930306905370832\n",
    "p-value: 0.2129888748754345\n",
    "Degrees of freedom: 2\n",
    "Conclusion: The p-value of approximately 0.2130 is greater than the significance level of 0.05. Therefore, we fail to reject the null hypothesis. \n",
    "There is not enough evidence to conclude that there is a significant relationship between a user's preferred language and the conversion rate.\n",
    "This suggests that the conversion rate is not significantly affected by the user's language preference.\n",
    "\n",
    "4. ANOVA test for mean time spent on new page across language groups\n",
    "\n",
    "ANOVA test statistic: 0.8543992770006822\n",
    "p-value: 0.2129888748754345\n",
    "Conclusion: The p-value of approximately 0.2130 is greater than the significance level of 0.05. Therefore, we fail to reject the null hypothesis. \n",
    "There is not enough evidence to conclude that the mean time spent on the new page differs significantly among the language groups. This suggests that users from different language groups spend, on average, similar amounts of time on the new page.\n",
    "\n",
    "\n",
    "Finally, these results indicate that the new page design leads to increased time spent and higher conversion rates compared to the old page, regardless of the user's preferred language. The user's language preference does not seem to significantly impact conversion rates or time spent on the new page."
   ]
  },
  {
   "cell_type": "markdown",
   "metadata": {},
   "source": []
  }
 ],
 "metadata": {
  "kernelspec": {
   "display_name": "Python 3",
   "language": "python",
   "name": "python3"
  },
  "language_info": {
   "codemirror_mode": {
    "name": "ipython",
    "version": 3
   },
   "file_extension": ".py",
   "mimetype": "text/x-python",
   "name": "python",
   "nbconvert_exporter": "python",
   "pygments_lexer": "ipython3",
   "version": "3.12.0"
  }
 },
 "nbformat": 4,
 "nbformat_minor": 2
}
